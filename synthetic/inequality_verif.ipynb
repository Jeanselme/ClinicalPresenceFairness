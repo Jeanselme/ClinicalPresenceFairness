{
 "cells": [
  {
   "cell_type": "code",
   "execution_count": null,
   "metadata": {},
   "outputs": [],
   "source": [
    "import numpy as np\n",
    "import pandas as pd\n",
    "import matplotlib.pyplot as plt\n",
    "\n",
    "import seaborn as sns\n",
    "custom_params = {\"axes.spines.right\": False, \"axes.spines.top\": False, \"axes.spines.left\": False,\n",
    "                 \"axes.spines.bottom\": False, \"figure.dpi\": 700, 'savefig.dpi': 300}\n",
    "sns.set_theme(style = \"whitegrid\", rc = custom_params, font_scale = 1.5)"
   ]
  },
  {
   "cell_type": "code",
   "execution_count": null,
   "metadata": {},
   "outputs": [],
   "source": [
    "# Observable\n",
    "muo_g = 0.5\n",
    "muo_ng = 0.\n",
    "\n",
    "alpha_g = 0.7\n",
    "alpha_ng = 0.8\n",
    "\n",
    "ratio = 0.25"
   ]
  },
  {
   "cell_type": "code",
   "execution_count": null,
   "metadata": {},
   "outputs": [],
   "source": [
    "# Computation averages observables\n",
    "alpha = alpha_g * ratio + alpha_ng * (1 - ratio)\n",
    "muo = muo_g * ratio * alpha_g / alpha + muo_ng * (1 - ratio) * alpha_ng / alpha \n",
    "\n",
    "alpha, muo"
   ]
  },
  {
   "cell_type": "code",
   "execution_count": null,
   "metadata": {},
   "outputs": [],
   "source": [
    "# Unobservables\n",
    "sigma_g = 0.5\n",
    "sigma_ng = 0.5\n",
    "\n",
    "std_g = 1\n",
    "std_ng = 1"
   ]
  },
  {
   "cell_type": "code",
   "execution_count": null,
   "metadata": {},
   "outputs": [],
   "source": [
    "# Theorem 1\n",
    "def L_pop(alpha, rho, sigma, muo_g, muo, std):\n",
    "    return (B_group(alpha, rho, sigma) + muo_g - muo) ** 2 + std ** 2\n",
    "\n",
    "def L_group(alpha, rho, sigma, std):\n",
    "    return B_group(alpha, rho, sigma) ** 2 + std ** 2\n",
    "\n",
    "def B_group(alpha, rho, sigma):\n",
    "    return -  rho * sigma / np.sqrt((1 - alpha) * alpha)"
   ]
  },
  {
   "cell_type": "code",
   "execution_count": null,
   "metadata": {},
   "outputs": [],
   "source": [
    "# Theorem 2\n",
    "def theorem2_empirical(alpha, rho, sigma, muo_g, muo, std):\n",
    "    return L_pop(alpha, rho, sigma, muo_g, muo, std) < L_group(alpha, rho, sigma, std)\n",
    "\n",
    "def theorem2_theory(alpha, rho, sigma, muo_g, muo, std):\n",
    "    q1 = rho / np.sqrt((1 - alpha) * alpha)\n",
    "    q2 = (muo_g - muo) / (2 * sigma)\n",
    "    return q1 < q2 if q2 < 0 else q1 > q2"
   ]
  },
  {
   "cell_type": "code",
   "execution_count": null,
   "metadata": {},
   "outputs": [],
   "source": [
    "def compute_deltas(alpha_g, rho_g, sigma_g, muo_g, muo, std_g, alpha_ng, rho_ng, sigma_ng, muo_ng, std_ng):\n",
    "    delta_group = L_group(alpha_g, rho_g, sigma_g, std_g) - L_group(alpha_ng, rho_ng, sigma_ng, std_ng) \n",
    "    delta_pop = L_pop(alpha_g, rho_g, sigma_g, muo_g, muo, std_g) - L_pop(alpha_ng, rho_ng, sigma_ng, muo_ng, muo, std_ng) \n",
    "    return delta_group, delta_pop\n",
    "\n",
    "# Theorem 3\n",
    "def theorem3_empirical(alpha_g, rho_g, sigma_g, muo_g, muo, std_g, alpha_ng, rho_ng, sigma_ng, muo_ng, std_ng):\n",
    "    assert sigma_g == sigma_ng, \"Theorem assume equal unobserved variance\"\n",
    "    delta_group, delta_pop = compute_deltas(alpha_g, rho_g, sigma_g, muo_g, muo, std_g, alpha_ng, rho_ng, sigma_ng, muo_ng, std_ng)\n",
    "    return (delta_group > delta_pop) & (delta_pop > 0)\n",
    "\n",
    "def theorem3_theory(r_g, alpha_g, rho_g, sigma_g, muo_g, muo, std_g, alpha_ng, rho_ng, sigma_ng, muo_ng, std_ng):\n",
    "    assert sigma_g == sigma_ng, \"Theorem assume equal unobserved variance\"\n",
    "    assert muo_g > muo, \"Theorem only applies for larger observed mean\"\n",
    "    \n",
    "    f = lambda a, r, an: (2* an * (1-r)) / np.sqrt(a * (1-a)) - np.sqrt((1 - a) / a) * (an * (1-r) - a*r)\n",
    "    d = lambda a, r, an: (a*r + an * (1-r)) / np.sqrt(a * (1-a)) - np.sqrt((1 - a) / a) * (an * (1-r) - a*r)\n",
    "    e = lambda a: np.sqrt(a / (1 - a))\n",
    "\n",
    "    L1 = lambda diff, rh, s, a, r, an, rhn, sn: (rh * s * f(a, r, an) + rhn * sn * f(an, 1 - r, a)) > (((1-r) * an - r * a) * diff)\n",
    "    L2 = lambda diff, rh, s, a, r, an, rhn, sn: (rh * s * d(a, r, an) + rhn * sn * d(an, 1 - r, a)) < (((1-r) * an - r * a) * diff)\n",
    "    L3 = lambda diff, rh, s, a, an, rhn, sn: (rh * s * e(a) - rhn * sn * e(an)) < diff\n",
    "\n",
    "    diffmu = muo_g - muo_ng - rho_g * np.sqrt((1 - alpha_g) / alpha_g) * sigma_g + rho_ng * np.sqrt((1 - alpha_ng) / alpha_ng) * sigma_ng\n",
    "    L2_eval = L2(diffmu, rho_g, sigma_g, alpha_g, r_g, alpha_ng, rho_ng, sigma_ng) \n",
    "    L3_eval =L3(diffmu, rho_g, sigma_g, alpha_g, alpha_ng, rho_ng, sigma_ng)\n",
    "\n",
    "    return L1(diffmu, rho_g, sigma_g, alpha_g, r_g, alpha_ng, rho_ng, sigma_ng) & ((L2_eval & L3_eval) | (~L2_eval & ~L3_eval))"
   ]
  },
  {
   "cell_type": "code",
   "execution_count": null,
   "metadata": {},
   "outputs": [],
   "source": [
    "def theorem4(alpha_g, rho_g, sigma_g, muo_g, muo, std_g, alpha_ng, rho_ng, sigma_ng, muo_ng, std_ng):\n",
    "    assert sigma_g == sigma_ng, \"Theorem assume equal unobserved variance\"\n",
    "    delta_group, delta_pop = compute_deltas(alpha_g, rho_g, sigma_g, muo_g, muo, std_g, alpha_ng, rho_ng, sigma_ng, muo_ng, std_ng)\n",
    "    return np.abs(delta_group) > np.abs(delta_pop)"
   ]
  },
  {
   "cell_type": "code",
   "execution_count": null,
   "metadata": {},
   "outputs": [],
   "source": [
    "# See when the different constraints are satisfied with rho varying\n",
    "linspace = np.linspace(-1, 1, num = 100)\n",
    "differences = pd.DataFrame(0, index = linspace, columns = linspace)\n",
    "mask = pd.DataFrame(0, index = linspace, columns = linspace)\n",
    "mask_comp = pd.DataFrame(0, index = linspace, columns = linspace)\n",
    "\n",
    "for rho_g in linspace:\n",
    "    for rho_ng in linspace:\n",
    "        delta_group, delta_pop = compute_deltas(alpha_g, rho_g, sigma_g, muo_g, muo, std_g, alpha_ng, rho_ng, sigma_ng, muo_ng, std_ng)\n",
    "        differences[rho_g][rho_ng] = delta_pop - delta_group\n",
    "        mask[rho_g][rho_ng] = theorem3_theory(ratio, alpha_g, rho_g, sigma_g, muo_g, muo, std_g, alpha_ng, rho_ng, sigma_ng, muo_ng, std_ng)\n",
    "        mask_comp[rho_g][rho_ng] = theorem4(alpha_g, rho_g, sigma_g, muo_g, muo, std_g, alpha_ng, rho_ng, sigma_ng, muo_ng, std_ng)\n",
    "\n",
    "        assert theorem2_empirical(alpha_g, rho_g, sigma_g, muo_g, muo, std_g) == theorem2_theory(alpha_g, rho_g, sigma_g, muo_g, muo, std_g), \"Theorem 2 not verified for group g\"\n",
    "        assert theorem2_empirical(alpha_ng, rho_ng, sigma_ng, muo_ng, muo, std_ng) == theorem2_theory(alpha_ng, rho_ng, sigma_ng, muo_ng, muo, std_ng), \"Theorem 2 not verified for group ng\"\n",
    "        assert theorem3_empirical(alpha_g, rho_g, sigma_g, muo_g, muo, std_g, alpha_ng, rho_ng, sigma_ng, muo_ng, std_ng) == (theorem3_theory(ratio, alpha_g, rho_g, sigma_g, muo_g, muo, std_g, alpha_ng, rho_ng, sigma_ng, muo_ng, std_ng) & (delta_pop > 0)), \"Theorem 3 not verified\""
   ]
  },
  {
   "cell_type": "code",
   "execution_count": null,
   "metadata": {},
   "outputs": [],
   "source": [
    "plt.pcolor(differences.columns, differences.index, differences, cmap='RdBu')\n",
    "clb = plt.colorbar() \n",
    "clb.ax.set_title(r'$\\Delta^{pop} - \\Delta^{group}$')\n",
    "clb.ax.set_ylabel('Difference in fairness gap')\n",
    "plt.contourf(differences.columns, differences.index, mask == 1, 1, hatches=['', 'xxx'], alpha = 0)\n",
    "plt.contourf(differences.columns, differences.index, mask_comp == 1, 1, hatches=['', '...'], alpha = 0)\n",
    "plt.legend([plt.Rectangle((0,0),1,1, hatch = 'xxx', edgecolor = 'k', fill = False, alpha = 0.5), plt.Rectangle((0,0),1,1, hatch = '...', edgecolor = 'k', fill = False, alpha = 0.5)], \n",
    "           [r'0 < $\\Delta^{pop} < \\Delta^{group}$ (Theorem 3)', r'$|\\Delta^{pop}| < |\\Delta^{group}|$'], loc='upper left', bbox_to_anchor=(1.4, 1.04), frameon=False,\n",
    "            handletextpad = 0.5, handlelength = 1.0, columnspacing = -0.5)\n",
    "plt.axhline(y=0, color='k', alpha = 0.5, linestyle='--')\n",
    "plt.axvline(x=0, color='k', alpha = 0.5, linestyle='--')\n",
    "\n",
    "ax = plt.gca()\n",
    "plt.xlabel(r'$\\rho_g$')\n",
    "plt.ylabel(r'$\\rho_{\\neg g}$')"
   ]
  },
  {
   "cell_type": "code",
   "execution_count": null,
   "metadata": {},
   "outputs": [],
   "source": []
  }
 ],
 "metadata": {
  "kernelspec": {
   "display_name": "Python 3.10.6 ('survival')",
   "language": "python",
   "name": "python3"
  },
  "language_info": {
   "codemirror_mode": {
    "name": "ipython",
    "version": 3
   },
   "file_extension": ".py",
   "mimetype": "text/x-python",
   "name": "python",
   "nbconvert_exporter": "python",
   "pygments_lexer": "ipython3",
   "version": "3.10.10"
  },
  "orig_nbformat": 4,
  "vscode": {
   "interpreter": {
    "hash": "f1b50223f39b64c0c24545f474e3e7d2d3b4b121fe045100fc03a3926bb649af"
   }
  }
 },
 "nbformat": 4,
 "nbformat_minor": 2
}
