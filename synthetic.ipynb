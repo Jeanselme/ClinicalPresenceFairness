{
 "cells": [
  {
   "cell_type": "markdown",
   "metadata": {},
   "source": [
    "This notebook allows to reproduce the paper synthetic results. First, we create a synthetic population with different disease expression. Then, we enforce missingness following three scenario of clinical presence, i.e. the interaction between patient and the healthcare system:\n",
    "- (Mis)-informed collection\n",
    "- Limited access to quality care\n",
    "- Confirmation bias"
   ]
  },
  {
   "cell_type": "code",
   "execution_count": null,
   "metadata": {},
   "outputs": [],
   "source": [
    "from utils import *\n",
    "import numpy as np"
   ]
  },
  {
   "cell_type": "markdown",
   "metadata": {},
   "source": [
    "### Generate data"
   ]
  },
  {
   "cell_type": "markdown",
   "metadata": {},
   "source": [
    "First, we create the data from three gaussian: one for positives and two for negatives (one for the minority and one for the majority)"
   ]
  },
  {
   "cell_type": "code",
   "execution_count": null,
   "metadata": {},
   "outputs": [],
   "source": [
    "def generate_data_linear_shift(majority_size, ratio, class_balance = 0.5):\n",
    "    \"\"\"\n",
    "        Generate data with a shift in the linear separation for the minority\n",
    "        Negative are the same but not positive\n",
    "\n",
    "        Args:\n",
    "            majority_size (int): Number points for majority\n",
    "            ratio (float): Ratio for minority (0.1 = 1 in minority for 10 in majority)\n",
    "            class_balance (float, optional): Balance between class. Default 0.5.\n",
    "    \"\"\"\n",
    "    np.random.seed(0)\n",
    "\n",
    "    majority_pos = 0.25 * np.random.randn(int(majority_size * class_balance), 2)\n",
    "    majority_neg = 0.25 * np.random.randn(int(majority_size * (1 - class_balance)), 2)\n",
    "    majority_pos[:, 0] += 1\n",
    "    majority = np.concatenate([majority_pos, majority_neg])\n",
    "    labels_maj = np.concatenate([np.full(len(majority_pos), True), np.full(len(majority_neg), False)])\n",
    "\n",
    "    minority_pos = 0.25 * np.random.randn(int(majority_size * ratio * class_balance), 2)\n",
    "    minority_neg = 0.25 * np.random.randn(int(majority_size * ratio * (1 - class_balance)), 2)\n",
    "    minority_pos[:, 1] += 1\n",
    "    minority = np.concatenate([minority_pos, minority_neg])\n",
    "    labels_min = np.concatenate([np.full(len(minority_pos), True), np.full(len(minority_neg), False)])\n",
    "\n",
    "    concatenation = np.concatenate([majority, minority])\n",
    "    labels = np.concatenate([labels_maj, labels_min])\n",
    "    protected =  np.concatenate([np.full(len(labels_maj), False), np.full(len(labels_min), True)])\n",
    "\n",
    "    sort = np.arange(len(concatenation))\n",
    "    np.random.shuffle(sort)\n",
    "    return concatenation[sort], labels[sort], protected[sort]"
   ]
  },
  {
   "cell_type": "code",
   "execution_count": null,
   "metadata": {},
   "outputs": [],
   "source": [
    "data, labels, protected = generate_data_linear_shift(majority_size = 100000, ratio = 0.01)\n",
    "display_data(data, labels, protected)"
   ]
  },
  {
   "cell_type": "markdown",
   "metadata": {},
   "source": [
    "### Mis-informed collection"
   ]
  },
  {
   "cell_type": "code",
   "execution_count": null,
   "metadata": {},
   "outputs": [],
   "source": [
    "# Remove data\n",
    "p = (data[:, 1] > 0.5).astype(float) # All above threshold\n",
    "total = p.sum()\n",
    "selection = np.random.choice(len(data), size = int(total * 0.5), replace = False, p = p / total) # 50 % missing\n",
    "missing = data.copy()\n",
    "missing[selection, 0] = np.nan"
   ]
  },
  {
   "cell_type": "code",
   "execution_count": null,
   "metadata": {},
   "outputs": [],
   "source": [
    "# Variable for results\n",
    "min_perf, maj_perf, tot_perf, min_brier, maj_brier, tot_brier, min_rocs = {}, {}, {}, {}, {}, {}, {}\n",
    "\n",
    "for imputation in ['Population', 'Group']:\n",
    "    ## Imputation\n",
    "    imputed = impute_data(missing, protected, strategy = imputation)\n",
    "\n",
    "    ## Modelling\n",
    "    min_perf[imputation], maj_perf[imputation], tot_perf[imputation], min_brier[imputation], maj_brier[imputation], tot_brier[imputation], min_rocs[imputation], coefs = cross_validation(imputed, labels, protected)\n",
    "\n",
    "    ## Display\n",
    "    #display_data(imputed, labels, protected, distribution = True, legend = False)\n",
    "    plt.axline((0, np.mean(coefs, 0)[0]), slope = np.mean(coefs, 0)[1], c = 'black', ls = '-.')\n",
    "    plt.show()"
   ]
  },
  {
   "cell_type": "code",
   "execution_count": null,
   "metadata": {},
   "outputs": [],
   "source": [
    "display_result(min_perf, maj_perf, tot_perf)"
   ]
  },
  {
   "cell_type": "code",
   "execution_count": null,
   "metadata": {},
   "outputs": [],
   "source": [
    "display_result(min_brier, maj_brier, tot_brier, type = 'Brier')"
   ]
  },
  {
   "cell_type": "markdown",
   "metadata": {},
   "source": [
    "### Limited access to quality care"
   ]
  },
  {
   "cell_type": "code",
   "execution_count": null,
   "metadata": {},
   "outputs": [],
   "source": [
    "# Remove data\n",
    "p = (protected == 1).astype(float) # All minority\n",
    "total = p.sum()\n",
    "selection = np.random.choice(len(data), size = int(total * 0.5), replace = False, p = p / total) # 50 % missing\n",
    "missing = data.copy()\n",
    "missing[selection, 0] = np.nan"
   ]
  },
  {
   "cell_type": "code",
   "execution_count": null,
   "metadata": {},
   "outputs": [],
   "source": [
    "# Variable for results\n",
    "min_perf, maj_perf, tot_perf, min_brier, maj_brier, tot_brier, min_rocs = {}, {}, {}, {}, {}, {}, {}\n",
    "\n",
    "for imputation in ['Population', 'Group']:\n",
    "    ## Imputation\n",
    "    imputed = impute_data(missing, protected, strategy = imputation)\n",
    "\n",
    "    ## Modelling\n",
    "    min_perf[imputation], maj_perf[imputation], tot_perf[imputation], min_brier[imputation], maj_brier[imputation], tot_brier[imputation], min_rocs[imputation], coefs = cross_validation(imputed, labels, protected)\n",
    "\n",
    "    ## Display\n",
    "    display_data(imputed, labels, protected, distribution = True, legend = False)\n",
    "    plt.axline((0, np.mean(coefs, 0)[0]), slope = np.mean(coefs, 0)[1], c = 'black', ls = '-.')\n",
    "    plt.show()"
   ]
  },
  {
   "cell_type": "code",
   "execution_count": null,
   "metadata": {},
   "outputs": [],
   "source": [
    "display_result(min_perf, maj_perf, tot_perf)"
   ]
  },
  {
   "cell_type": "code",
   "execution_count": null,
   "metadata": {},
   "outputs": [],
   "source": [
    "display_result(min_brier, maj_brier, tot_brier, type = 'Brier')"
   ]
  },
  {
   "cell_type": "markdown",
   "metadata": {},
   "source": [
    "### Confirmation bias"
   ]
  },
  {
   "cell_type": "code",
   "execution_count": null,
   "metadata": {},
   "outputs": [],
   "source": [
    "# Remove data\n",
    "p = (labels == 0).astype(float) # All negatives\n",
    "total = p.sum()\n",
    "selection = np.random.choice(len(data), size = int(total * 0.5), replace = False, p = p / total)\n",
    "missing = data.copy()\n",
    "missing[selection, 0] = np.nan"
   ]
  },
  {
   "cell_type": "code",
   "execution_count": null,
   "metadata": {},
   "outputs": [],
   "source": [
    "# Variable for results\n",
    "min_perf, maj_perf, tot_perf, min_brier, maj_brier, tot_brier, min_rocs = {}, {}, {}, {}, {}, {}, {}\n",
    "\n",
    "for imputation in ['Population', 'Group']:\n",
    "    ## Imputation\n",
    "    imputed = impute_data(missing, protected, strategy = imputation)\n",
    "\n",
    "    ## Modelling\n",
    "    min_perf[imputation], maj_perf[imputation], tot_perf[imputation], min_brier[imputation], maj_brier[imputation], tot_brier[imputation], min_rocs[imputation], coefs = cross_validation(imputed, labels, protected)\n",
    "\n",
    "    ## Display\n",
    "    display_data(imputed, labels, protected, distribution = True, legend = False)\n",
    "    plt.axline((0, np.mean(coefs, 0)[0]), slope = np.mean(coefs, 0)[1], c = 'black', ls = '-.')\n",
    "    plt.show()"
   ]
  },
  {
   "cell_type": "code",
   "execution_count": null,
   "metadata": {},
   "outputs": [],
   "source": [
    "display_result(min_perf, maj_perf, tot_perf)"
   ]
  },
  {
   "cell_type": "code",
   "execution_count": null,
   "metadata": {},
   "outputs": [],
   "source": [
    "display_result(min_brier, maj_brier, tot_brier, type = 'Brier')"
   ]
  },
  {
   "cell_type": "markdown",
   "metadata": {},
   "source": [
    "----------"
   ]
  },
  {
   "cell_type": "markdown",
   "metadata": {},
   "source": [
    "# Distribution variation"
   ]
  },
  {
   "cell_type": "code",
   "execution_count": null,
   "metadata": {},
   "outputs": [],
   "source": [
    "min_diff = {}\n",
    "for ratio in [0.01, 0.1, 0.5, 1]:\n",
    "    for disease_ratio in [0.1, 0.25, 0.5]:\n",
    "        # Create data with characteristics\n",
    "        data, labels, protected = generate_data_linear_shift(majority_size = 100000, ratio = ratio, class_balance = disease_ratio)\n",
    "\n",
    "        for missing_strategy in range(3):\n",
    "            # Remove data\n",
    "            if missing_strategy == 0:\n",
    "                p = (data[:, 1] > 0.5).astype(float)\n",
    "            elif missing_strategy == 1:\n",
    "                p = (protected == 1).astype(float)\n",
    "            else:\n",
    "                p = (labels == 0).astype(float) # All negatives\n",
    "            total = p.sum()\n",
    "            selection = np.random.choice(len(data), size = int(total * 0.5), replace = False, p = p / total)\n",
    "            missing = data.copy()\n",
    "            missing[selection, 0] = np.nan\n",
    "\n",
    "            min_perf = {}\n",
    "            for imputation_strategy in ['Population', 'Group']:\n",
    "                imputed = impute_data(missing, protected, strategy = imputation_strategy)\n",
    "                min_perf[imputation_strategy],  _, _, _, _, _, _, _= cross_validation(imputed, labels, protected)\n",
    "\n",
    "            if missing_strategy not in min_diff:\n",
    "                min_diff[missing_strategy] = {}\n",
    "            if ratio not in min_diff[missing_strategy]:\n",
    "                min_diff[missing_strategy][ratio] = {}\n",
    "            if disease_ratio not in min_diff[missing_strategy][ratio]:\n",
    "                min_diff[missing_strategy][ratio][disease_ratio] = {}\n",
    "\n",
    "            min_diff[missing_strategy][ratio][disease_ratio] = np.mean(np.array(min_perf['Population']) - np.array(min_perf['Group']))\n",
    "\n",
    "for missing in min_diff:\n",
    "    print(missing)\n",
    "    set = pd.DataFrame(min_diff[missing])\n",
    "    ax = sns.heatmap(set, cbar_kws = {'label': 'Population - Group'}, vmin = -0.15, vmax = 0.15, cmap = 'coolwarm')\n",
    "    plt.xlabel('Population diversity')\n",
    "    plt.ylabel('Disease Prevalence')\n",
    "    plt.show()"
   ]
  },
  {
   "cell_type": "code",
   "execution_count": null,
   "metadata": {},
   "outputs": [],
   "source": []
  }
 ],
 "metadata": {
  "interpreter": {
   "hash": "a54f3b3a447186e9a4a83057d2abe8df010acd7b8f131225203d307ef84eba48"
  },
  "kernelspec": {
   "display_name": "Python 3.9.7 ('Jupyter')",
   "language": "python",
   "name": "python3"
  },
  "language_info": {
   "codemirror_mode": {
    "name": "ipython",
    "version": 3
   },
   "file_extension": ".py",
   "mimetype": "text/x-python",
   "name": "python",
   "nbconvert_exporter": "python",
   "pygments_lexer": "ipython3",
   "version": "3.9.7"
  },
  "orig_nbformat": 4
 },
 "nbformat": 4,
 "nbformat_minor": 2
}
