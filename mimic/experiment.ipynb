{
 "cells": [
  {
   "cell_type": "markdown",
   "metadata": {},
   "source": [
    "This notebook runs the model on the preprocessed data. The goal is to predict if the patient will survive to its stay."
   ]
  },
  {
   "cell_type": "code",
   "execution_count": null,
   "metadata": {},
   "outputs": [],
   "source": [
    "import sys\n",
    "sys.path.append('../')\n",
    "import pandas as pd"
   ]
  },
  {
   "cell_type": "markdown",
   "metadata": {},
   "source": [
    "# Reload data"
   ]
  },
  {
   "cell_type": "code",
   "execution_count": null,
   "metadata": {},
   "outputs": [],
   "source": [
    "labs = pd.read_csv('data/labs_1_day.csv', index_col = [0, 1], header = [0, 1])\n",
    "outcomes = pd.read_csv('data/outcomes_1_day.csv', index_col = 0)"
   ]
  },
  {
   "cell_type": "code",
   "execution_count": null,
   "metadata": {},
   "outputs": [],
   "source": [
    "outcomes['Death'] = ~outcomes.Death.isna()"
   ]
  },
  {
   "cell_type": "markdown",
   "metadata": {},
   "source": [
    "# Split "
   ]
  },
  {
   "cell_type": "code",
   "execution_count": null,
   "metadata": {},
   "outputs": [],
   "source": [
    "# Results path\n",
    "results = 'results/classification' "
   ]
  },
  {
   "cell_type": "code",
   "execution_count": null,
   "metadata": {},
   "outputs": [],
   "source": [
    "training = pd.Series(outcomes.index.isin(outcomes.sample(frac = 0.8, random_state = 0).index), index = outcomes.index)"
   ]
  },
  {
   "cell_type": "code",
   "execution_count": null,
   "metadata": {},
   "outputs": [],
   "source": [
    "print('Total patients: {}'.format(len(training)))\n",
    "print('Training patients: {}'.format(training.sum()))"
   ]
  },
  {
   "cell_type": "markdown",
   "metadata": {},
   "source": [
    "# Imputation"
   ]
  },
  {
   "cell_type": "code",
   "execution_count": null,
   "metadata": {},
   "outputs": [],
   "source": [
    "from sklearn.experimental import enable_iterative_imputer\n",
    "from sklearn.impute import IterativeImputer\n",
    "\n",
    "def imputation(data, strategy):\n",
    "    # Compute fill value\n",
    "    if strategy == 'LOCF':\n",
    "        data = data.groupby('Patient').ffill()\n",
    "        impute = - 1\n",
    "        \n",
    "    elif strategy == 'Individual':\n",
    "        impute = data.groupby('Patient').median()\n",
    "\n",
    "    elif strategy == \"MICE\":\n",
    "        data = pd.DataFrame(IterativeImputer(random_state = 0, max_iter = 50,\n",
    "            imputation_order = 'random', initial_strategy = 'median').fit_transform(data), \n",
    "            index = data.index, columns = data.columns)\n",
    "        impute = - 1 \n",
    "\n",
    "    return data, impute\n",
    "\n",
    "def process(data, strategy = 'LOCF'):\n",
    "    \"\"\"\n",
    "        Preprocesses data \n",
    "        Take last observation and impute given strategy\n",
    "    \"\"\"\n",
    "    updated, impute = imputation(data, strategy)\n",
    "    resampled = updated.groupby('Patient').last()\n",
    "    imputed = resampled.fillna(impute)\n",
    "\n",
    "    return imputed"
   ]
  },
  {
   "cell_type": "code",
   "execution_count": null,
   "metadata": {},
   "outputs": [],
   "source": [
    "from utils import Experiment"
   ]
  },
  {
   "cell_type": "code",
   "execution_count": null,
   "metadata": {},
   "outputs": [],
   "source": [
    "hyperparams = {\n",
    "    'penalty': ['elasticnet'],\n",
    "    'C': [0.01, 0.1, 1., 10],\n",
    "    'solver': ['saga'], \n",
    "    'max_iter': [1000],\n",
    "    'l1_ratio': [0, 0.1, 0.5, 0.9, 1.],\n",
    "    'n_jobs': [-1]\n",
    "}"
   ]
  },
  {
   "cell_type": "code",
   "execution_count": null,
   "metadata": {},
   "outputs": [],
   "source": [
    "for strategy in ['LOCF', 'MICE', 'Individual']:\n",
    "    print('Imputation strategy: ', strategy)\n",
    "    last = process(labs, strategy = strategy)\n",
    "    assert (last == -1).sum().sum() == 0, \"Non imputed values\"\n",
    "    se = Experiment.create(model = 'log', hyper_grid = hyperparams, \n",
    "                     path = results + '_reg_' + strategy)\n",
    "    se.train(last, outcomes.Death, training)\n"
   ]
  },
  {
   "cell_type": "markdown",
   "metadata": {},
   "source": [
    "# MICE with group"
   ]
  },
  {
   "cell_type": "code",
   "execution_count": null,
   "metadata": {},
   "outputs": [],
   "source": [
    "group = 'ethnicity' # gender or ethnicity"
   ]
  },
  {
   "cell_type": "code",
   "execution_count": null,
   "metadata": {},
   "outputs": [],
   "source": [
    "groups_binary = (outcomes.ETHNICITY == 'White') if group == 'ethnicity' else (outcomes.GENDER == 'M')\n",
    "groups = groups_binary.replace({True: 'White', False: 'Non white'}) if group == 'ethnicity' else groups_binary.replace({True: 'Male', False: 'Female'})\n",
    "groups_value = groups.unique()"
   ]
  },
  {
   "cell_type": "code",
   "execution_count": null,
   "metadata": {},
   "outputs": [],
   "source": [
    "last = process(labs.join(groups_binary), strategy = 'MICE')\n",
    "se = Experiment.create(model = 'log', hyper_grid = hyperparams, \n",
    "                    path = results + '_reg_{}_specific'.format(group))\n",
    "se.train(last, outcomes.Death, training)"
   ]
  },
  {
   "cell_type": "code",
   "execution_count": null,
   "metadata": {},
   "outputs": [],
   "source": []
  }
 ],
 "metadata": {
  "interpreter": {
   "hash": "a54f3b3a447186e9a4a83057d2abe8df010acd7b8f131225203d307ef84eba48"
  },
  "kernelspec": {
   "display_name": "Python 3.9.7 64-bit ('Jupyter': conda)",
   "name": "python3"
  },
  "language_info": {
   "codemirror_mode": {
    "name": "ipython",
    "version": 3
   },
   "file_extension": ".py",
   "mimetype": "text/x-python",
   "name": "python",
   "nbconvert_exporter": "python",
   "pygments_lexer": "ipython3",
   "version": "3.9.7"
  }
 },
 "nbformat": 4,
 "nbformat_minor": 4
}
