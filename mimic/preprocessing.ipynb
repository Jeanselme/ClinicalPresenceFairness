{
 "cells": [
  {
   "cell_type": "markdown",
   "metadata": {},
   "source": [
    "This notebook extracts the lab data and reformat them to have unified denomination. Then extract labels of interest: death and length of stay.\n",
    "\n",
    "This code relies on [`MIMIC_extract`](https://github.com/MLforHealth/MIMIC_Extract) matching dictionary and the [MIMIC III](https://physionet.org/content/mimiciii/1.4/) data.\n",
    "To begin, download the data and update the following variable `PATH`."
   ]
  },
  {
   "cell_type": "code",
   "execution_count": null,
   "metadata": {},
   "outputs": [],
   "source": [
    "PATH = '/Users/vjeanselme/Desktop/Data/mimic/' #'/home/vjemj2/rds/hpc-work/data/mimic/'"
   ]
  },
  {
   "cell_type": "code",
   "execution_count": null,
   "metadata": {},
   "outputs": [],
   "source": [
    "import sys\n",
    "sys.path.append('../')\n",
    "import numpy as np\n",
    "import pandas as pd"
   ]
  },
  {
   "cell_type": "markdown",
   "metadata": {},
   "source": [
    "# Lab data"
   ]
  },
  {
   "cell_type": "markdown",
   "metadata": {},
   "source": [
    "### Mapping labs variables"
   ]
  },
  {
   "cell_type": "code",
   "execution_count": null,
   "metadata": {},
   "outputs": [],
   "source": [
    "mapping = pd.read_csv(PATH + 'itemid_to_variable_map.csv', index_col = 'ITEMID', dtype = {'ITEMID': int})\n",
    "mapping = mapping[(mapping['LEVEL2'] != '') &\\\n",
    "                  (mapping['COUNT'] > 0) &\\\n",
    "                  (mapping['STATUS'] == 'ready')\n",
    "                 ]"
   ]
  },
  {
   "cell_type": "code",
   "execution_count": null,
   "metadata": {},
   "outputs": [],
   "source": [
    "mapping.head()"
   ]
  },
  {
   "cell_type": "markdown",
   "metadata": {},
   "source": [
    "### Extract lab data"
   ]
  },
  {
   "cell_type": "code",
   "execution_count": null,
   "metadata": {},
   "outputs": [],
   "source": [
    "labs = pd.read_csv(PATH + 'LABEVENTS.csv.gz', parse_dates = ['CHARTTIME'])"
   ]
  },
  {
   "cell_type": "code",
   "execution_count": null,
   "metadata": {},
   "outputs": [],
   "source": [
    "# Select data and replace itemid with standard format\n",
    "labs = labs[labs.ITEMID.isin(mapping.index)][['SUBJECT_ID', 'HADM_ID', 'ITEMID', 'CHARTTIME', 'VALUENUM']]\n",
    "labs['Lab'] = mapping['LEVEL1'].loc[labs['ITEMID']].values"
   ]
  },
  {
   "cell_type": "code",
   "execution_count": null,
   "metadata": {},
   "outputs": [],
   "source": [
    "labs.head()"
   ]
  },
  {
   "cell_type": "markdown",
   "metadata": {},
   "source": [
    "# Labels"
   ]
  },
  {
   "cell_type": "markdown",
   "metadata": {},
   "source": [
    "Read the patients' outcome and extract the temporal information for labelling the data"
   ]
  },
  {
   "cell_type": "code",
   "execution_count": null,
   "metadata": {},
   "outputs": [],
   "source": [
    "genderAge = pd.read_csv(PATH + 'PATIENTS.csv.gz', usecols = ['SUBJECT_ID', 'GENDER', 'DOB'], parse_dates = ['DOB'])"
   ]
  },
  {
   "cell_type": "code",
   "execution_count": null,
   "metadata": {},
   "outputs": [],
   "source": [
    "admissions = pd.read_csv(PATH + 'ADMISSIONS.csv.gz',  \n",
    "                         usecols = ['SUBJECT_ID', 'HADM_ID', 'ADMISSION_TYPE', 'HOSPITAL_EXPIRE_FLAG',\n",
    "                                    'ADMITTIME', 'DISCHTIME', 'DEATHTIME', 'ETHNICITY', 'INSURANCE', 'DIAGNOSIS'],\n",
    "                         parse_dates = ['ADMITTIME', 'DISCHTIME', 'DEATHTIME'])\n",
    "admissions = admissions.merge(genderAge, on = 'SUBJECT_ID')"
   ]
  },
  {
   "cell_type": "code",
   "execution_count": null,
   "metadata": {},
   "outputs": [],
   "source": [
    "# Focus only on adults - Update 12.10.2021\n",
    "removed_nan = admissions[['ADMITTIME', 'DOB']].dropna()\n",
    "admissions['AGE'] = np.nan\n",
    "admissions['AGE'][removed_nan.index] = [date.days for date in (removed_nan.ADMITTIME.dt.to_pydatetime() - removed_nan.DOB.dt.to_pydatetime())]\n",
    "admissions.AGE /= 365\n",
    "\n",
    "admissions = admissions[admissions.AGE > 18]"
   ]
  },
  {
   "cell_type": "code",
   "execution_count": null,
   "metadata": {},
   "outputs": [],
   "source": [
    "# Focus on last visits (as space between visit might change process)\n",
    "admissions = admissions.loc[admissions['SUBJECT_ID'].drop_duplicates('last').index]"
   ]
  },
  {
   "cell_type": "code",
   "execution_count": null,
   "metadata": {},
   "outputs": [],
   "source": [
    "# Change times to hours since admission\n",
    "admissions['Death'] = admissions['DEATHTIME'] - admissions['ADMITTIME']\n",
    "admissions['LOS'] = admissions['DISCHTIME'] - admissions['ADMITTIME']"
   ]
  },
  {
   "cell_type": "code",
   "execution_count": null,
   "metadata": {},
   "outputs": [],
   "source": [
    "# Create index for easier search\n",
    "admissions = admissions.set_index('SUBJECT_ID')\n",
    "admissions.head()"
   ]
  },
  {
   "cell_type": "code",
   "execution_count": null,
   "metadata": {},
   "outputs": [],
   "source": [
    "assert len(admissions.HADM_ID.unique()) == len(admissions), \\\n",
    "    \"Different patients have the same HADM_ID, might be a problem for the rest of the code\""
   ]
  },
  {
   "cell_type": "markdown",
   "metadata": {},
   "source": [
    "# Transformation labs"
   ]
  },
  {
   "cell_type": "code",
   "execution_count": null,
   "metadata": {},
   "outputs": [],
   "source": [
    "# Remove unecessary HADM_ID\n",
    "labs = labs[labs.HADM_ID.isin(admissions.HADM_ID)]"
   ]
  },
  {
   "cell_type": "code",
   "execution_count": null,
   "metadata": {},
   "outputs": [],
   "source": [
    "# Change time event to time since admission\n",
    "labs['Time'] = labs.CHARTTIME.values - admissions.ADMITTIME.loc[labs.SUBJECT_ID].values"
   ]
  },
  {
   "cell_type": "code",
   "execution_count": null,
   "metadata": {},
   "outputs": [],
   "source": [
    "labs.head()"
   ]
  },
  {
   "cell_type": "markdown",
   "metadata": {},
   "source": [
    "# Reformat"
   ]
  },
  {
   "cell_type": "markdown",
   "metadata": {},
   "source": [
    "Clean reformating of the dataframe for saving"
   ]
  },
  {
   "cell_type": "code",
   "execution_count": null,
   "metadata": {},
   "outputs": [],
   "source": [
    "labs.rename(columns = {\"SUBJECT_ID\": \"Patient\",\n",
    "                       \"VALUENUM\": \"Value\"}, inplace = True)\n",
    "labs = labs.reset_index(drop = True)[['Patient', 'Time', 'Lab', 'Value']]\n",
    "labs.head()"
   ]
  },
  {
   "cell_type": "code",
   "execution_count": null,
   "metadata": {},
   "outputs": [],
   "source": [
    "admissions.rename_axis(index = \"Patient\", inplace = True)\n",
    "admissions.head()"
   ]
  },
  {
   "cell_type": "markdown",
   "metadata": {},
   "source": [
    "# Selection First day"
   ]
  },
  {
   "cell_type": "code",
   "execution_count": null,
   "metadata": {},
   "outputs": [],
   "source": [
    "day = 1\n",
    "first_day = pd.to_timedelta('{} day'.format(day))\n",
    "admissions = admissions[admissions.LOS >= first_day]\n",
    "labs = labs[(labs.Time < first_day) & (labs.Time > pd.to_timedelta('0 day')) &\\\n",
    "              labs.Patient.isin(admissions.index)]"
   ]
  },
  {
   "cell_type": "markdown",
   "metadata": {},
   "source": [
    "# Cleaning labs"
   ]
  },
  {
   "cell_type": "code",
   "execution_count": null,
   "metadata": {},
   "outputs": [],
   "source": [
    "# Remove duplicates: same test multiple time at the same time\n",
    "labs = labs[~labs.set_index(['Patient', 'Time', 'Lab']).index.duplicated(keep = False)]"
   ]
  },
  {
   "cell_type": "code",
   "execution_count": null,
   "metadata": {},
   "outputs": [],
   "source": [
    "# Pivot to hae test as columns\n",
    "labs = labs.pivot(index = ['Patient', 'Time'], columns = 'Lab')\n",
    "\n",
    "# Change index to have days\n",
    "labs.index = labs.index.set_levels(labs.index.levels[1].total_seconds()/(3600.*24), 1)"
   ]
  },
  {
   "cell_type": "code",
   "execution_count": null,
   "metadata": {},
   "outputs": [],
   "source": [
    "# Remove empty lines\n",
    "labs = labs.dropna(how = 'all')"
   ]
  },
  {
   "cell_type": "code",
   "execution_count": null,
   "metadata": {},
   "outputs": [],
   "source": [
    "labs"
   ]
  },
  {
   "cell_type": "markdown",
   "metadata": {},
   "source": [
    "# Clean outcomes"
   ]
  },
  {
   "cell_type": "code",
   "execution_count": null,
   "metadata": {},
   "outputs": [],
   "source": [
    "# Remove patients with no labs\n",
    "admissions = admissions.loc[labs.index.get_level_values(0).unique()]"
   ]
  },
  {
   "cell_type": "code",
   "execution_count": null,
   "metadata": {},
   "outputs": [],
   "source": [
    "admissions['Death'] = admissions['Death'].dt.total_seconds() / (24 * 60 * 60)"
   ]
  },
  {
   "cell_type": "markdown",
   "metadata": {},
   "source": [
    "# Save"
   ]
  },
  {
   "cell_type": "markdown",
   "metadata": {},
   "source": [
    "Rename columns and save all the data and labels"
   ]
  },
  {
   "cell_type": "code",
   "execution_count": null,
   "metadata": {},
   "outputs": [],
   "source": [
    "labs.to_csv('data/labs_{}_day.csv'.format(day))\n",
    "admissions.to_csv('data/outcomes_{}_day.csv'.format(day))"
   ]
  },
  {
   "cell_type": "markdown",
   "metadata": {},
   "source": [
    "\n",
    "-------"
   ]
  },
  {
   "cell_type": "markdown",
   "metadata": {},
   "source": [
    "# Clinical Presence Evidence\n",
    "\n",
    "Compute the number of observations for the different group of interest and compare them using t test."
   ]
  },
  {
   "cell_type": "code",
   "execution_count": null,
   "metadata": {},
   "outputs": [],
   "source": [
    "import scipy.stats"
   ]
  },
  {
   "cell_type": "code",
   "execution_count": null,
   "metadata": {},
   "outputs": [],
   "source": [
    "labs = pd.read_csv('data/labs_1_day.csv', index_col = [0, 1], header = [0, 1])\n",
    "outcomes = pd.read_csv('data/outcomes_1_day.csv', index_col = 0)\n",
    "\n",
    "outcomes['Death'] = outcomes['Death'] < 8"
   ]
  },
  {
   "cell_type": "code",
   "execution_count": null,
   "metadata": {},
   "outputs": [],
   "source": [
    "test_count = labs.groupby('Patient').size()\n",
    "\n",
    "insurance = (outcomes.INSURANCE == 'Private').replace({False: 'Public', True: 'Private'}).rename('Insurance')\n",
    "death = outcomes['Death'].replace({False: 'Alive', True: 'Death'}).rename('Outcome')\n",
    "gender = (outcomes.GENDER == 'F').replace({False: 'Male', True: 'Female'}).rename('Gender')\n",
    "ethnicity = (outcomes.ETHNICITY.str.contains('BLACK')).replace({False: 'Non Black', True: 'Black'}).rename('Ethnicity')"
   ]
  },
  {
   "cell_type": "code",
   "execution_count": null,
   "metadata": {},
   "outputs": [],
   "source": [
    "# Average test per outcome\n",
    "test_count.groupby(death).mean(), test_count.groupby(death).std(), scipy.stats.ttest_ind(test_count[death == \"Alive\"], test_count[death == \"Death\"])"
   ]
  },
  {
   "cell_type": "code",
   "execution_count": null,
   "metadata": {},
   "outputs": [],
   "source": [
    "# Average test per sex\n",
    "test_count.groupby(gender).mean(), test_count.groupby(gender).std(), scipy.stats.ttest_ind(test_count[gender == \"Female\"], test_count[gender == \"Male\"])"
   ]
  },
  {
   "cell_type": "code",
   "execution_count": null,
   "metadata": {},
   "outputs": [],
   "source": [
    "# Average test per ethnicity\n",
    "test_count.groupby(ethnicity).mean(), test_count.groupby(ethnicity).std(), scipy.stats.ttest_ind(test_count[ethnicity == 'Black'], test_count[ethnicity == 'Non Black'])"
   ]
  },
  {
   "cell_type": "code",
   "execution_count": null,
   "metadata": {},
   "outputs": [],
   "source": [
    "# Average test per insurance\n",
    "test_count.groupby(insurance).mean(), test_count.groupby(insurance).std(), scipy.stats.ttest_ind(test_count[insurance == 'Public'], test_count[insurance == 'Private'])"
   ]
  },
  {
   "cell_type": "markdown",
   "metadata": {},
   "source": [
    "### Evolution"
   ]
  },
  {
   "cell_type": "code",
   "execution_count": null,
   "metadata": {},
   "outputs": [],
   "source": [
    "import seaborn as sns\n",
    "import matplotlib.pyplot as plt\n",
    "sns.set_theme(style=\"darkgrid\")\n",
    "sns.set(font_scale = 1.5, rc={\"figure.dpi\":300, 'savefig.dpi':300})"
   ]
  },
  {
   "cell_type": "code",
   "execution_count": null,
   "metadata": {},
   "outputs": [],
   "source": [
    "bins = np.linspace(0, 24, endpoint = True)\n",
    "evolution = labs.groupby('Patient').apply(lambda x: pd.DataFrame({'Cumulative number tests': np.histogram(24 * x.index.get_level_values('Time'), bins)[0].cumsum(), 'Hour after admission': bins[1:]}))"
   ]
  },
  {
   "cell_type": "code",
   "execution_count": null,
   "metadata": {},
   "outputs": [],
   "source": [
    "sns.lineplot(data=evolution.join(death), x = \"Hour after admission\", y = \"Cumulative number tests\", hue = 'Outcome')\n",
    "plt.xlim(1, 24)"
   ]
  },
  {
   "cell_type": "code",
   "execution_count": null,
   "metadata": {},
   "outputs": [],
   "source": [
    "sns.lineplot(data=evolution.join(gender), x = \"Hour after admission\", y = \"Cumulative number tests\", hue = 'Gender')\n",
    "plt.xlim(1, 24)"
   ]
  },
  {
   "cell_type": "code",
   "execution_count": null,
   "metadata": {},
   "outputs": [],
   "source": [
    "sns.lineplot(data=evolution.join(ethnicity), x = \"Hour after admission\", y = \"Cumulative number tests\", hue = 'Ethnicity')\n",
    "plt.xlim(1, 24)"
   ]
  },
  {
   "cell_type": "code",
   "execution_count": null,
   "metadata": {},
   "outputs": [],
   "source": [
    "sns.lineplot(data=evolution.join(insurance), x = \"Hour after admission\", y = \"Cumulative number tests\", hue = 'Insurance')\n",
    "plt.xlim(1, 24)"
   ]
  }
 ],
 "metadata": {
  "kernelspec": {
   "display_name": "survival",
   "language": "python",
   "name": "python3"
  },
  "language_info": {
   "codemirror_mode": {
    "name": "ipython",
    "version": 3
   },
   "file_extension": ".py",
   "mimetype": "text/x-python",
   "name": "python",
   "nbconvert_exporter": "python",
   "pygments_lexer": "ipython3",
   "version": "3.10.10 | packaged by conda-forge | (main, Mar 24 2023, 20:12:31) [Clang 14.0.6 ]"
  },
  "vscode": {
   "interpreter": {
    "hash": "f1b50223f39b64c0c24545f474e3e7d2d3b4b121fe045100fc03a3926bb649af"
   }
  }
 },
 "nbformat": 4,
 "nbformat_minor": 4
}
